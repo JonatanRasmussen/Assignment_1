{
 "cells": [
  {
   "attachments": {},
   "cell_type": "markdown",
   "metadata": {},
   "source": [
    "## A1 Part 2: Dataviz questions"
   ]
  },
  {
   "attachments": {},
   "cell_type": "markdown",
   "metadata": {},
   "source": [
    "* Mention 10 examples of ways we can encode data."
   ]
  },
  {
   "attachments": {},
   "cell_type": "markdown",
   "metadata": {},
   "source": [
    "Svar"
   ]
  },
  {
   "attachments": {},
   "cell_type": "markdown",
   "metadata": {},
   "source": [
    "* Are all encodings created equally? Why not? Can you think of an example from the previous lectures?\n"
   ]
  },
  {
   "attachments": {},
   "cell_type": "markdown",
   "metadata": {},
   "source": [
    "All encodings are not created equal. Good encodings take the data and encode it in a way that helps our brain understand it. Poorly encoded data obscures the patterns that our visual system would otherwise be able to spot when reading the visualization.\n",
    "\n",
    "Our visual system is great at processing large amounts of visual information and spotting patterns. Good encodings take the data and encode it in a way that helps our brain understand it. "
   ]
  },
  {
   "attachments": {},
   "cell_type": "markdown",
   "metadata": {},
   "source": [
    "* Mention 3 encodings that are difficult for the human eye to parse. Can you find an example of a visualization online that uses one of those three?\n"
   ]
  },
  {
   "cell_type": "markdown",
   "metadata": {},
   "source": []
  },
  {
   "attachments": {},
   "cell_type": "markdown",
   "metadata": {},
   "source": [
    "* Explain in your own words: What is the problem with pie-charts?"
   ]
  },
  {
   "attachments": {},
   "cell_type": "markdown",
   "metadata": {},
   "source": [
    "Pie charts are problematic because our brain is bad at estimating the exact size of areas and angles. The pie format makes it hard for our brain to compare the size of two similar-sized slices.  \n",
    "  \n",
    "If the pie chart ultimately fails at making the data easier for our visual system to decode, it defeats the entire purpose of visualizing the data in the first place! \n",
    "\n",
    "When visualizing Data Science, being able to spot patterns and make direct comparisons is important. That is why Data Science engineers should ditch the pie chart and rely on different types of charts instead, such as bar charts."
   ]
  },
  {
   "cell_type": "code",
   "execution_count": 5,
   "metadata": {},
   "outputs": [
    {
     "name": "stdout",
     "output_type": "stream",
     "text": [
      "Hello world, again!\n"
     ]
    }
   ],
   "source": [
    "print(\"Hello world, again!\")"
   ]
  }
 ],
 "metadata": {
  "kernelspec": {
   "display_name": "Python 3",
   "language": "python",
   "name": "python3"
  },
  "language_info": {
   "codemirror_mode": {
    "name": "ipython",
    "version": 3
   },
   "file_extension": ".py",
   "mimetype": "text/x-python",
   "name": "python",
   "nbconvert_exporter": "python",
   "pygments_lexer": "ipython3",
   "version": "3.10.2"
  },
  "orig_nbformat": 4,
  "vscode": {
   "interpreter": {
    "hash": "b396f5ead75acc6b8c42dfae349d3b3faffce02bb10df1fad71123a7a13bdb8b"
   }
  }
 },
 "nbformat": 4,
 "nbformat_minor": 2
}
