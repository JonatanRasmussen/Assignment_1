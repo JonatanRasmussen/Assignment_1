{
 "cells": [
  {
   "attachments": {},
   "cell_type": "markdown",
   "metadata": {},
   "source": [
    "## A1 Part 2: Dataviz questions"
   ]
  },
  {
   "attachments": {},
   "cell_type": "markdown",
   "metadata": {},
   "source": [
    "> * Mention 10 examples of ways we can encode data.\n",
    "\n",
    "**Answer**:  \n",
    "- Position\n",
    "- Length\n",
    "- Area\n",
    "- Shape\n",
    "- Angle\n",
    "- Color\n",
    "- Nodes\n",
    "- Links\n",
    "- Line weight\n",
    "- Texture\n"
   ]
  },
  {
   "attachments": {},
   "cell_type": "markdown",
   "metadata": {},
   "source": [
    "> * Are all encodings created equally? Why not? Can you think of an example from the previous lectures?\n",
    "\n",
    "**Answer**: \\\n",
    "All encodings are not created equally. Good encodings take the data and encode it in a way that helps our brain understand it. Poorly encoded data obscures the patterns that our visual system would otherwise be able to pick out when reading the visualization.\n",
    "\n",
    "In terms of an example from the previous lectures, it was really eye-opening to use calender plots for week 2's temporal data. Ditching the bar charts and encoding the data in a format more tightly connected with time and dates allowed for new patterns to emerge that was otherwise hidden."
   ]
  },
  {
   "attachments": {},
   "cell_type": "markdown",
   "metadata": {},
   "source": [
    "> * Mention 3 encodings that are difficult for the human eye to parse. Can you find an example of a visualization online that uses one of those three?\n",
    "\n",
    "**Answer**:  \n",
    "- Angle\n",
    "- Area/size\n",
    "- Color intensity\n",
    "\n",
    "In regards of a visualization online that encode data in a difficult-to-parse format, the following monstrosity highlights an extreme example:  \n",
    "  \n",
    "Although constructed as a parody, it nevertheless carries seven information-packed variables:  \n",
    "– Three conveyed by position along the x-axis, y-axis and z-axis.  \n",
    "– Another two by the columns’ length and width.  \n",
    "– One by the size of the stacks within the column.  \n",
    "– One by the pie chart atop the columns.  \n",
    "  \n",
    "Despite clear guidelines for how the encoding works, the plot is completely unparsable by any human and is therefore awful as a tool for encoding data.\n",
    "\n",
    "[![Honorable mention](https://i.redd.it/vjkm9vpn8n011.png)](https://i.redd.it/vjkm9vpn8n011.png)\n",
    "\n",
    "*Source: 3D Stacked Scatter Pie Columns., http://eagerpies.com/better-than-minard/*"
   ]
  },
  {
   "attachments": {},
   "cell_type": "markdown",
   "metadata": {},
   "source": [
    "> * Explain in your own words: What is the problem with pie-charts?\n",
    "\n",
    "**Answer**:  \n",
    "Pie charts are problematic because our brain is bad at estimating the exact size of areas and angles. This makes comparison between two data points difficult, which is a deal-braker for Data Scientists. Bar charts avoid this issue by encoding the data in lengths and positions, which is easier for the brain to handle.\n",
    "  \n",
    "If the pie chart ultimately fails at making the data easier for our visual system to decode and quantify, it defeats the entire purpose of visualizing data in the first place! "
   ]
  },
  {
   "cell_type": "code",
   "execution_count": 5,
   "metadata": {},
   "outputs": [
    {
     "name": "stdout",
     "output_type": "stream",
     "text": [
      "Hello world, again!\n"
     ]
    }
   ],
   "source": [
    "print(\"Hello world, again!\")"
   ]
  },
  {
   "attachments": {},
   "cell_type": "markdown",
   "metadata": {},
   "source": [
    "## Part 1: More lecturing on dataviz\n",
    "\n",
    "We begin today by learning more about the theory of visualization, digging into data encodings and representations.\n",
    "\n",
    "[![IMAGE ALT TEXT HERE](https://img.youtube.com/vi/zE6Nr8trdrw/0.jpg)](https://www.youtube.com/watch?v=zE6Nr8trdrw)\n",
    "\n",
    "> *Excercise:* Some questions about the video\n",
    ">\n",
    "> * Mention 10 examples of ways we can encode data.\n",
    "\n",
    "**Answer**:  \n",
    "- Positions\n",
    "- Length\n",
    "- Area\n",
    "- Shape\n",
    "- Color\n",
    "- Angle\n",
    "- Texture\n",
    "- Pattern\n",
    "- Line weight\n",
    "- Line ending\n",
    "\n",
    "> * Are all encodings created equally? Why not? Can you think of an example from the previous lectures?\n",
    "\n",
    "**Answer**: \\\n",
    "No, some encodings offer better solutions to specific things than others. For example visualizing sizes relative to each other can be clearly understood using a bar chart, while a pie chart does a terrible job of conveying the relativity among numbers, because it is difficult to read off angles for the human brain (comparison is tough).\n",
    "\n",
    "In terms of an example from the previous lecture, \n",
    "\n",
    "> * Mention 3 encodings that are difficult for the human eye to parse. Can you find an example of a visualization online that uses one of those three?\n",
    "\n",
    "**Answer**: \\\n",
    "- Angle\n",
    "- Area/size\n",
    "- Color intensity\n",
    "\n",
    "> * Explain in your own words: What is the problem with pie-charts?\n",
    "\n",
    "**Answer**: \\\n",
    "Pie-charts are bad because everything they can show can be better shown using a different type of chart. Pie charts are usually used to show a comparison of some sorts between multiple elements, however if these elements are somewhat similar then it becomes extremely hard to compare - then if that is the case why would you ever use a pie chart for comparison if you cannot successfully compare stuff - indeed that is the question ;)"
   ]
  }
 ],
 "metadata": {
  "kernelspec": {
   "display_name": "Python 3",
   "language": "python",
   "name": "python3"
  },
  "language_info": {
   "codemirror_mode": {
    "name": "ipython",
    "version": 3
   },
   "file_extension": ".py",
   "mimetype": "text/x-python",
   "name": "python",
   "nbconvert_exporter": "python",
   "pygments_lexer": "ipython3",
   "version": "3.10.2"
  },
  "orig_nbformat": 4,
  "vscode": {
   "interpreter": {
    "hash": "b396f5ead75acc6b8c42dfae349d3b3faffce02bb10df1fad71123a7a13bdb8b"
   }
  }
 },
 "nbformat": 4,
 "nbformat_minor": 2
}
